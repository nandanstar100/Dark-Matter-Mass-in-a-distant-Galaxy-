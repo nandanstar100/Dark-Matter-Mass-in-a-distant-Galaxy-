{
 "cells": [
  {
   "cell_type": "markdown",
   "id": "39b21400",
   "metadata": {},
   "source": [
    "# Dark Matter Mass in a distant Galaxy"
   ]
  },
  {
   "cell_type": "markdown",
   "id": "0120c8ef",
   "metadata": {},
   "source": [
    "Galaxies follow a well-modelled distribution of stars and their masses as a function of distance from the galaxy centre. These together create a gravitational potential of the galaxy in which the stars revolve. However, observed stellar revolution rates are in stark disagreement with calculated values. This discrepancy can be attributed to the presence of dark matter halo around the galaxy, which creates a potential that fits with the observed velocities.\n",
    "\n",
    "Your task in this assignment is to estimate the amount of dark matter in the halo of a distant galaxy, KriGal. "
   ]
  },
  {
   "cell_type": "markdown",
   "id": "cc58f3d7",
   "metadata": {},
   "source": [
    "## Finding the radius-velocity curve\n",
    "\n",
    "The following file(darkmatter.csv) contains observation data of the stars, a small section of which belong to the galaxy KriGal. Open the file and take a look to get an idea of what observations were made. Such data for stars this far are in practice impossible to measure with such precision, but were made possible for the first time in the history of space observation with KIT (Krittika's Incredible Telescope).\n",
    "\n",
    "It is known the galaxy's centre has (RA, Dec) = $(140.76398^0, 75.5344^0)$\n",
    "\n",
    "Open the CSV file, find the relative RA/Dec difference of each star w.r.t. the galaxy's centre and convert all data to SI units - would be handy later on. \n"
   ]
  },
  {
   "cell_type": "code",
   "execution_count": 3,
   "id": "5d1096b6",
   "metadata": {},
   "outputs": [],
   "source": [
    "\n",
    "import math\n",
    "import csv\n",
    "galaxycenter_RA=140.76398\n",
    "galaxycenter_Dec=75.5344\n",
    "i=0\n",
    "darkmattergiven_data=[]\n",
    "darkmatternew_data=[]\n",
    "with open('darkmatter.csv', 'r') as file:\n",
    "    # Create a CSV reader object\n",
    "    reader = csv.reader(file)\n",
    "    \n",
    "    data = []\n",
    "    for darkmatter_data in reader:\n",
    "        if(i==0):\n",
    "            i+=1\n",
    "            darkmatternew_data.append([\"RA in (degrees)\",\"Dec in (degrees)\",\"RA in radian\",\"Dec in radian\"])\n",
    "            darkmattergiven_data.append(darkmatter_data)\n",
    "        else:\n",
    "            x=str(darkmatter_data[0])\n",
    "            y=str(darkmatter_data[1])\n",
    "            a=float(x)-galaxycenter_RA\n",
    "            b=float(y)-galaxycenter_Dec\n",
    "            c=(float(x)-galaxycenter_RA)*math.pi/180\n",
    "            d=(float(y)-galaxycenter_Dec)*math.pi/180\n",
    "            darkmatternew_data.append([a,b,c,d])\n",
    "            darkmattergiven_data.append(darkmatter_data)\n",
    "\n",
    "\n",
    "\n",
    "        \n",
    "        "
   ]
  },
  {
   "cell_type": "markdown",
   "id": "db5f334d",
   "metadata": {},
   "source": [
    "Assume the galaxy is 3500 kpc (kiloparsecs) away and the centre of galaxy moves according to Hubble's law (H = $70$ km/s/Mpc). Note that the redshift $z$ is related to the radial velocity of any object as\n",
    "\n",
    "$$ z = \\sqrt{\\frac{c+v}{c-v}} - 1$$\n",
    "where $c$ = speed of light, and $v$ = velocity of object, taken positive when object moves away from us.\n",
    "\n",
    "Also 1 parsec = $3.083 \\times 10^{16}$ metres\n",
    "\n",
    "Using this, find the relative radial velocities of the stars w.r.t. the centre of galaxy.\n"
   ]
  },
  {
   "cell_type": "code",
   "execution_count": 4,
   "id": "a31becff",
   "metadata": {
    "scrolled": true
   },
   "outputs": [],
   "source": [
    "v_galaxy=70*3.5 #in km/s galaxyis moving away w.r.t earth\n",
    "c=299792.458 #speed of light in km/s\n",
    "vrad_stars=[\"radial velocity of star w.r.t center of galaxy\"]\n",
    "for i in range(537):\n",
    "    z=float(darkmattergiven_data[i+1][3])\n",
    "    v=c*((z+1)**2-1)/((z+1)**2+1)\n",
    "    vrad_stars.append(v-v_galaxy)\n",
    "\n",
    "    "
   ]
  },
  {
   "cell_type": "markdown",
   "id": "14563574",
   "metadata": {},
   "source": [
    "Use the previous information to find the tangential velocities of the stars. \n",
    "\n",
    "Assume the stars move in perfectly circular orbits and we view the galaxy edge-on i.e. to us the star trajectories appear like line segments."
   ]
  },
  {
   "cell_type": "code",
   "execution_count": 5,
   "id": "7b2cee7c",
   "metadata": {},
   "outputs": [],
   "source": [
    "pc=3.083*(10**16)\n",
    "vtang_stars=[\"tangential velocity of star\"]\n",
    "year=31536000 #seconds\n",
    "#using proper motion we can calculate tangential velocity\n",
    "dgalaxycenter=3500*1000*3.083*(10**16)\n",
    "for i in range(537):\n",
    "    vtang=float(darkmattergiven_data[i+1][2])*0.001*dgalaxycenter*math.pi/(3600*year*180) #in m/s\n",
    "    vtang_stars.append(vtang/1000)  #in km/s\n"
   ]
  },
  {
   "cell_type": "markdown",
   "id": "1cdb9fe2",
   "metadata": {},
   "source": [
    "Now find the angular separation from galaxy centre to each star and use that to find the tangential separation (in length units) from the galaxy centre."
   ]
  },
  {
   "cell_type": "code",
   "execution_count": 7,
   "id": "37af7502",
   "metadata": {},
   "outputs": [],
   "source": [
    "#angular seperation between two stars is given by cos(θ) = sin(δ₁) × sin(δ₂) + cos(δ₁) × cos(δ₂) × cos(RA₁ - RA₂)\n",
    "angseperation=[\"angular separation from galaxy centre to each star\"]\n",
    "for i in range(537):\n",
    "    theta=math.acos(math.sin(float(darkmattergiven_data[i+1][1])*math.pi/180)*math.sin(galaxycenter_Dec*math.pi/180)+math.cos(float(darkmattergiven_data[i+1][1])*math.pi/180)*math.cos(galaxycenter_Dec*math.pi/180)*math.cos(darkmatternew_data[i+1][2]))\n",
    "    angseperation.append(theta)\n",
    "#angular seperation in radians\n",
    "tangdistance=[\"tangential separation from the galaxy centre\"] #in kpc\n",
    "dgalaxycenter_kpc=3500\n",
    "\n",
    "for i in range(537):\n",
    "    tangdistance.append(10**3*pc*dgalaxycenter_kpc*angseperation[i+1]) #sin(θ) \n"
   ]
  },
  {
   "cell_type": "markdown",
   "id": "e72a1634",
   "metadata": {},
   "source": [
    "Find total velocity of each star w.r.t. galaxy centre.\n",
    "\n",
    "Using angle information obtained from velocity components (assume circular orbits) and tangential distance, find the radial distance and hence the total distance of each star w.r.t. galaxy centre.\n",
    "\n",
    "Make a scatter plot of velocity v/s radius."
   ]
  },
  {
   "cell_type": "code",
   "execution_count": 8,
   "id": "71249d31",
   "metadata": {
    "scrolled": false
   },
   "outputs": [
    {
     "data": {
      "image/png": "[encoded data removed]",
      "text/plain": [
       "<Figure size 640x480 with 1 Axes>"
      ]
     },
     "metadata": {},
     "output_type": "display_data"
    }
   ],
   "source": [
    "vtotstars=[\"total velocity\"] # =sqrt(vr**2 +vt**2)\n",
    "radial_distance=[\"radial distance of star\"] #=dgalaxycenter*angularseperation/sin(atan(vrad/vtang)) #in kpc\n",
    "radius_star=[\"radial distance of each star\"] #=sqrt(radialdist**2+tangdist**2)\n",
    "for i in range(537):\n",
    "    vtotstars.append(((vrad_stars[i+1])**2+(vtang_stars[i+1])**2)**0.5)\n",
    "    radial_distance.append(10**3*pc*dgalaxycenter_kpc*angseperation[i+1]/math.sin(math.atan(abs(vrad_stars[i+1]/vtang_stars[i+1]))))\n",
    "    radius_star.append((radial_distance[i+1]**2+tangdistance[i+1]**2)**0.5)\n",
    "import matplotlib.pyplot as plt\n",
    "xpoints=vtotstars[1:]\n",
    "ypoints=radius_star[1:]\n",
    "plt.scatter(ypoints, xpoints, marker='o',s=4)\n",
    "plt.ylabel(\"velocity in m/s\")\n",
    "plt.xlabel(\"radius in m\")\n",
    "plt.title(\"velocity v/s radius\")\n",
    "plt.show()\n"
   ]
  },
  {
   "cell_type": "markdown",
   "id": "527a532b",
   "metadata": {},
   "source": [
    "## Finding halo parameters using the curve\n",
    "\n",
    "If you have got correctly so far, you would have got a set of points that follow what is known as the **galaxy rotation curve**, a curve that rises steeply first, curves and becomes almost constant from around midway. This rotation curve is evidence for the dark matter halo. The halo is taken to be spherical with the centre at galaxy's centre, with radial density profile given by the [Navarro-Frenk-White (NFW) profile](https://en.wikipedia.org/wiki/Navarro%E2%80%93Frenk%E2%80%93White_profile):\n",
    "\n",
    "$$ \\rho (r) = \\frac{\\rho_0}{\\frac{r}{R_s}\\left( 1 + \\frac{r}{R_s}\\right)^2} $$\n",
    "\n",
    "where $R_s$ is a scale radius whose value is comparable to the radius of the galaxy (i.e. same order of magnitude).\n",
    "\n",
    "From the density profile, find the expression for mass $M_r$ enclosed in a sphere of radius $r$ (you may include it in a handwritten page photo). Using this find the expression for velocity of a star at radius $r$. Recall that \n",
    "$$ \\frac{v^2}{r} = \\frac{GM_r}{r^2} $$"
   ]
  },
  {
   "cell_type": "markdown",
   "id": "afcbd213",
   "metadata": {},
   "source": [
    "Once you have the velocity profile, using scipy's curve fitting function (google for syntax and uses!) find the best fit value of $R_s$. You are given that the value of $\\rho_0$ is $0.02$ solar masses per cubic parsec. Again, convert it to SI units before processing."
   ]
  },
  {
   "cell_type": "code",
   "execution_count": null,
   "id": "ddf7550b",
   "metadata": {},
   "outputs": [],
   "source": [
    "import numpy as np\n",
    "from scipy.optimize import curve_fit\n",
    "p=0.02  #solar  masses per cubic parsec\n",
    "solarmass=1.989*(10**30)\n",
    "\n",
    "G=6.6743*(10**(-11))\n",
    "p*=solarmass/(pc)**3  #kg per cubic pc\n",
    "# Define the function to fit\n",
    "def func(rv, Rs):\n",
    "    r,v= rv\n",
    "    return (4*math.pi*p*(Rs**3)*(math.log((Rs+r)/Rs)-(r/(Rs+r)))*G)/(r*(v**2))\n",
    "\n",
    "# Generate some example data\n",
    "v = vtotstars[1:]  #in m/s\n",
    "y = 1\n",
    "r = radius_star[1:] # in meters\n",
    "R,V = np.meshgrid(r,v)\n",
    "\n",
    "\n",
    "# Set an initial guess for the parameters\n",
    "initial_guess = [1]\n",
    "\n",
    "# Fit the function to the data\n",
    "params, cov = curve_fit(func, (R, V), y, p0=initial_guess)\n",
    "\n",
    "# Print the best fit parameters\n",
    "print(\"Best fit parameters:\")\n",
    "print(\"Rs = {:.2f}\".format(params[0]))\n",
    "\n",
    "\n"
   ]
  },
  {
   "cell_type": "markdown",
   "id": "493ff83d",
   "metadata": {},
   "source": [
    "Plot the actual vs curve-fitted plots of velocity and radius. If you have passed only the three required arguments to curve-fit (function name, input and output) you will (likely) notice it doesn't work at all and gives an impossible value for $R_s$! (If you get a good fit in the first try itself, that's great!)\n",
    "\n",
    "This happens because scipy's initial guess for the parameter is 1 (metre), which is nowhere near the actual value on the order of kiloparsecs. Look up scipy's syntax to see how we can pass in an initial guess ourselves. Now pass on an initial guess (given that you know it's on the order of kiloparsecs) to curve fit. "
   ]
  },
  {
   "cell_type": "code",
   "execution_count": null,
   "id": "b261966f",
   "metadata": {},
   "outputs": [],
   "source": [
    "#code"
   ]
  },
  {
   "cell_type": "markdown",
   "id": "eb9994f1",
   "metadata": {},
   "source": [
    "Although the dark matter halo nominally has no end, we define the boundary of the halo to be the radius $R_{vir}$ where the **mean** density of the sphere of radius $R_{vir}$ merges with the background density of the Universe. Write a function calculating mean density for a radius $r$, and find the density at $50R_s$."
   ]
  },
  {
   "cell_type": "code",
   "execution_count": null,
   "id": "f718cd38",
   "metadata": {},
   "outputs": [],
   "source": [
    "#code"
   ]
  },
  {
   "cell_type": "markdown",
   "id": "ae4d6114",
   "metadata": {},
   "source": [
    "The background density of the Universe is $8.5 \\times 10^{-27}$ in SI units. We take the virial radius to be where mean density of sphere is equal to 50 times background density. Find the value of virial radius at which this happens.\n",
    "\n",
    "Getting an analytical expression for radius from the mean density equation can be difficult. You can either use a numerical solver like Desmos, or more preferably, tweak around with a few values of radius in the mean density function you wrote till you get a density around 40-60 times the background density. Round off to the nearest multiple of $10R_s$."
   ]
  },
  {
   "cell_type": "code",
   "execution_count": 10,
   "id": "a25a5a15",
   "metadata": {},
   "outputs": [],
   "source": [
    "#code"
   ]
  },
  {
   "cell_type": "markdown",
   "id": "193017db",
   "metadata": {},
   "source": [
    "Using this virial radius, find the total mass contained inside the sphere i.e. the mass of dark matter in the galaxy"
   ]
  },
  {
   "cell_type": "code",
   "execution_count": 11,
   "id": "b68e4bdc",
   "metadata": {},
   "outputs": [],
   "source": [
    "#code"
   ]
  }
 ],
 "metadata": {
  "kernelspec": {
   "display_name": "Python 3 (ipykernel)",
   "language": "python",
   "name": "python3"
  },
  "language_info": {
   "codemirror_mode": {
    "name": "ipython",
    "version": 3
   },
   "file_extension": ".py",
   "mimetype": "text/x-python",
   "name": "python",
   "nbconvert_exporter": "python",
   "pygments_lexer": "ipython3",
   "version": "3.10.9"
  }
 },
 "nbformat": 4,
 "nbformat_minor": 5
}
